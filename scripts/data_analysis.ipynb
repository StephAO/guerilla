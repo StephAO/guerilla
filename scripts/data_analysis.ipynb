{
 "cells": [
  {
   "cell_type": "heading",
   "metadata": {
    "collapsed": true
   },
   "level": 1,
   "source": [
    "Data Analysis"
   ]
  },
  {
   "cell_type": "code",
   "execution_count": 3,
   "metadata": {},
   "outputs": [],
   "source": [
    "from pkg_resources import resource_filename\n",
    "import pandas as pd\n",
    "import matplotlib\n",
    "import matplotlib.pyplot as plt\n",
    "import numpy as np\n",
    "import chess\n",
    "matplotlib.style.use('ggplot')"
   ]
  },
  {
   "cell_type": "heading",
   "metadata": {},
   "level": 1,
   "source": [
    "Stockfish Values"
   ]
  },
  {
   "cell_type": "code",
   "execution_count": 82,
   "metadata": {
    "collapsed": true
   },
   "outputs": [],
   "source": [
    "# Import stockfish values and fens\n",
    "relative_filepath = 'data/extracted_data/'\n",
    "filepath = resource_filename('guerilla', relative_filepath + 'sf_values.nsv')\n",
    "sf = pd.read_csv(filepath, names=['values_rnd'], header=None)\n",
    "\n",
    "filepath = resource_filename('guerilla', relative_filepath + 'fens.nsv')\n",
    "sf['fens_rnd'] = pd.read_csv(filepath, header=None)\n",
    "\n",
    "filepath = resource_filename('guerilla', relative_filepath + 'sf_values_old.nsv')\n",
    "sf['values'] = pd.read_csv(filepath, header=None)\n",
    "\n",
    "filepath = resource_filename('guerilla', relative_filepath + 'fens_old.nsv')\n",
    "sf['fens'] = pd.read_csv(filepath, header=None)"
   ]
  },
  {
   "cell_type": "heading",
   "metadata": {},
   "level": 1,
   "source": [
    "Score Mean + Variance"
   ]
  },
  {
   "cell_type": "code",
   "execution_count": 13,
   "metadata": {},
   "outputs": [],
   "source": [
    "# Add numbering (SLOW)\n",
    "start_fen = 'rnbqkbnr/pppppppp/8/8/8/8/PPPPPPPP/RNBQKBNR w KQkq - 0 1'\n",
    "sf['move_num'] = int(0)\n",
    "\n",
    "for row in range(len(sf)):\n",
    "    if sf.ix[row, 'fens'] == start_fen:\n",
    "        continue\n",
    "    else:\n",
    "        sf.ix[row, 'move_num'] = sf.ix[row - 1, 'move_num'] + 1"
   ]
  },
  {
   "cell_type": "code",
   "execution_count": 19,
   "metadata": {
    "collapsed": true
   },
   "outputs": [],
   "source": [
    "sf.rename(columns={'move_count':'move_num'}, inplace=True)"
   ]
  },
  {
   "cell_type": "heading",
   "metadata": {
    "collapsed": true
   },
   "level": 2,
   "source": [
    "Histogram"
   ]
  },
  {
   "cell_type": "code",
   "execution_count": 83,
   "metadata": {},
   "outputs": [],
   "source": [
    "#values.plot.hist(bins=100)\n",
    "hist, bins = np.histogram(sf['values'], bins = 100)\n",
    "plt.bar(bins[:-1], hist*1.0 / hist.sum(), width=(bins[1]-bins[0]))\n",
    "plt.xticks(np.arange(0, 1.1, 0.1))\n",
    "#plt.xlim([-2000, 2000])\n",
    "plt.title('Stockfish Score Distribution')\n",
    "plt.xlabel('P(Win)')\n",
    "plt.ylabel('Normalized # of fens')\n",
    "plt.show()"
   ]
  },
  {
   "cell_type": "code",
   "execution_count": 85,
   "metadata": {},
   "outputs": [],
   "source": [
    "sf[['values','values_rnd']].plot.hist(bins=100, stacked = False, alpha = 0.75 )\n",
    "plt.show()"
   ]
  },
  {
   "cell_type": "heading",
   "metadata": {},
   "level": 1,
   "source": [
    "Score Mean + Variance"
   ]
  },
  {
   "cell_type": "code",
   "execution_count": 31,
   "metadata": {},
   "outputs": [],
   "source": [
    "g = sf.groupby('move_num', axis=0)\n",
    "mean_data = g.aggregate(np.mean)\n",
    "var_data = g.aggregate(np.var)"
   ]
  },
  {
   "cell_type": "code",
   "execution_count": 79,
   "metadata": {},
   "outputs": [],
   "source": [
    "#g.size().plot()\n",
    "plt.ylabel('Number of Games')\n",
    "plt.xlabel('Move Number')\n",
    "plt.show()"
   ]
  },
  {
   "cell_type": "code",
   "execution_count": 71,
   "metadata": {
    "collapsed": true
   },
   "outputs": [],
   "source": [
    "mean_data.plot()\n",
    "for col in mean_data.columns:\n",
    "    top = mean_data[col] + var_data[col]\n",
    "    bot = mean_data[col] - var_data[col]\n",
    "    \n",
    "    plt.fill_between(mean_data.index, top, bot,\n",
    "                     color = '#348ABD' if col == 'values' else '#A60628'\n",
    "                     , alpha=0.25)\n",
    "\n",
    "plt.xlabel('Move Number')\n",
    "plt.ylabel('P(Win)')\n",
    "plt.show()"
   ]
  },
  {
   "cell_type": "code",
   "execution_count": 80,
   "metadata": {
    "collapsed": false
   },
   "outputs": [],
   "source": [
    "var_data.plot()\n",
    "plt.show()"
   ]
  }
 ],
 "metadata": {
  "kernelspec": {
   "display_name": "Python 2",
   "language": "python",
   "name": "python2"
  },
  "language_info": {
   "codemirror_mode": {
    "name": "ipython",
    "version": 2.0
   },
   "file_extension": ".py",
   "mimetype": "text/x-python",
   "name": "python",
   "nbconvert_exporter": "python",
   "pygments_lexer": "ipython2",
   "version": "2.7.6"
  }
 },
 "nbformat": 4,
 "nbformat_minor": 0
}